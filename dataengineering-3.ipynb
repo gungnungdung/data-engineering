{
 "cells": [
  {
   "cell_type": "code",
   "execution_count": 32,
   "id": "9c648660-cad4-4b0d-959b-98ec1a16e109",
   "metadata": {},
   "outputs": [],
   "source": [
    "#세팅\n",
    "hairstyles = [\"bouffant\", \"pixie\", \"dreadlocks\", \"crew\", \"bowl\", \"bob\", \"mohawk\", \"flattop\"]\n",
    "prices = [30, 25, 40, 20, 20, 35, 50, 35]\n",
    "last_week = [2, 3, 5, 8, 4, 4, 6, 2]"
   ]
  },
  {
   "cell_type": "code",
   "execution_count": 34,
   "id": "5a6ad338-ddc2-4ae6-bbd3-7419cd953a43",
   "metadata": {},
   "outputs": [],
   "source": [
    "# 1번 , 2번 \n",
    "total_price = 0\n",
    "for price in prices:\n",
    "    total_price += price"
   ]
  },
  {
   "cell_type": "code",
   "execution_count": 36,
   "id": "9b499921-a2e0-4ad1-a7e9-13a2bd991fd4",
   "metadata": {},
   "outputs": [
    {
     "name": "stdout",
     "output_type": "stream",
     "text": [
      "Average_price is 31.875000\n"
     ]
    }
   ],
   "source": [
    "#3번4번\n",
    "average_price = total_price / len(prices)\n",
    "print(\"Average_price is %f\" %average_price)"
   ]
  },
  {
   "cell_type": "code",
   "execution_count": 38,
   "id": "9e010a79-1037-4c37-8269-800c45a68255",
   "metadata": {},
   "outputs": [
    {
     "name": "stdout",
     "output_type": "stream",
     "text": [
      "[25, 20, 35, 15, 15, 30, 45, 30]\n"
     ]
    }
   ],
   "source": [
    "# 5,6번\n",
    "for i in range(8):\n",
    "    prices[i] = prices[i] - 5\n",
    "    new_prices = prices\n",
    "print(new_prices)"
   ]
  },
  {
   "cell_type": "code",
   "execution_count": 40,
   "id": "e7160f95-4665-4a82-9726-e17bd3f3f978",
   "metadata": {},
   "outputs": [
    {
     "name": "stdout",
     "output_type": "stream",
     "text": [
      "[30, 25, 40, 20, 20, 35, 50, 35]\n",
      "Total revenue is 1085\n",
      "Average daily revenue is 155.000000 \n",
      "[25, 20, 35, 15, 15, 30, 45, 30]\n"
     ]
    }
   ],
   "source": [
    "# 저번주 수익을 구하기위해 다시 모든가격+5\n",
    "for i in range(8):\n",
    "    prices[i] = prices[i] + 5\n",
    "    new_prices = prices\n",
    "print(new_prices)\n",
    "# 총 수익 계산\n",
    "#7번 8번 9번 10번 11번\n",
    "total_revenue = 0\n",
    "for i in range(len(hairstyles)):\n",
    "    total_revenue += prices[i] * last_week[i]\n",
    "\n",
    "print(\"Total revenue is\",total_revenue)\n",
    "average_daily_revenue = total_revenue / 7\n",
    "print(\"Average daily revenue is %f \" % average_daily_revenue)\n",
    "for i in range(8):\n",
    "    prices[i] = prices[i] - 5\n",
    "    new_prices = prices\n",
    "print(new_prices)"
   ]
  },
  {
   "cell_type": "code",
   "execution_count": 42,
   "id": "291d8ef3-ac18-4e7d-997b-56bb94b188fc",
   "metadata": {},
   "outputs": [],
   "source": [
    "#12번 문 #13번\n",
    "cuts_under_30 = []"
   ]
  },
  {
   "cell_type": "code",
   "execution_count": 44,
   "id": "83919402-ca74-41ee-97d9-a300ebc6de73",
   "metadata": {},
   "outputs": [
    {
     "name": "stdout",
     "output_type": "stream",
     "text": [
      "['bouffant', 'pixie', 'crew', 'bowl']\n"
     ]
    }
   ],
   "source": [
    "for i in range(len(new_prices)):\n",
    "    if new_prices[i] < 30:\n",
    "        cuts_under_30.append(hairstyles[i])\n",
    "print(cuts_under_30)"
   ]
  },
  {
   "cell_type": "code",
   "execution_count": null,
   "id": "cfdf7763-0f41-44b9-b1e1-b5053d6e53fd",
   "metadata": {},
   "outputs": [],
   "source": []
  },
  {
   "cell_type": "code",
   "execution_count": null,
   "id": "a5a7b494-a83e-4a4a-b0b8-bacca9ead29f",
   "metadata": {},
   "outputs": [],
   "source": []
  },
  {
   "cell_type": "code",
   "execution_count": null,
   "id": "d443c744-ba54-4063-8c9e-d7057dd10c39",
   "metadata": {},
   "outputs": [],
   "source": []
  }
 ],
 "metadata": {
  "kernelspec": {
   "display_name": "Python 3 (ipykernel)",
   "language": "python",
   "name": "python3"
  },
  "language_info": {
   "codemirror_mode": {
    "name": "ipython",
    "version": 3
   },
   "file_extension": ".py",
   "mimetype": "text/x-python",
   "name": "python",
   "nbconvert_exporter": "python",
   "pygments_lexer": "ipython3",
   "version": "3.12.4"
  }
 },
 "nbformat": 4,
 "nbformat_minor": 5
}
