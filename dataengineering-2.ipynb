{
 "cells": [
  {
   "cell_type": "code",
   "execution_count": 34,
   "id": "abc49e6a-9f80-4996-aa8e-14d3fddf8dab",
   "metadata": {},
   "outputs": [
    {
     "name": "stdout",
     "output_type": "stream",
     "text": [
      "[['physics', 98], ['calculus', 97], ['poetry', 85], ['history', 88]]\n"
     ]
    }
   ],
   "source": [
    "#1번 ,2번,3번,4번\n",
    "subjects = [\"physics\",\"calculus\",\"poetry\",\"history\"]\n",
    "\n",
    "grade = [98,97,85,88]\n",
    "\n",
    "gradebook = [\n",
    "    [\"physics\", 98],\n",
    "    [\"calculus\", 97],\n",
    "    [\"poetry\", 85],\n",
    "    [\"history\", 88]\n",
    "]\n",
    "\n",
    "print(gradebook)"
   ]
  },
  {
   "cell_type": "code",
   "execution_count": null,
   "id": "ec0b53ef-4a37-49bc-9268-c7183a9a8ace",
   "metadata": {},
   "outputs": [],
   "source": []
  },
  {
   "cell_type": "code",
   "execution_count": 37,
   "id": "4fe57baa-89cc-4d74-b9b8-cc6a1a3d20f8",
   "metadata": {},
   "outputs": [
    {
     "name": "stdout",
     "output_type": "stream",
     "text": [
      "[['physics', 98], ['calculus', 97], ['poetry', 85], ['history', 88], ['computer science', 100], ['visual arts', 93]]\n"
     ]
    }
   ],
   "source": [
    "# 5번 6번\n",
    "gradebook.append([\"computer science\", 100])\n",
    "gradebook.append([\"visual arts\", 93])\n",
    "\n",
    "print(gradebook)\n"
   ]
  },
  {
   "cell_type": "code",
   "execution_count": 39,
   "id": "71a7628d-eedf-40bf-8783-5da45f97dea7",
   "metadata": {},
   "outputs": [
    {
     "name": "stdout",
     "output_type": "stream",
     "text": [
      "[['physics', 98], ['calculus', 97], ['poetry', 'Pass'], ['history', 88], ['computer science', 100], ['visual arts', 98]]\n"
     ]
    }
   ],
   "source": [
    "#7번  8번 9번\n",
    "# 시각 예술 성적 수정\n",
    "gradebook[5][1] = 98\n",
    "\n",
    "# 시 수업 성적 Pass/Fail로 수정\n",
    "for subject in gradebook:\n",
    "    if subject[0] == \"poetry\":\n",
    "        subject[1] = \"Pass\"\n",
    "\n",
    "print(gradebook)\n"
   ]
  },
  {
   "cell_type": "code",
   "execution_count": 41,
   "id": "c5bb486b-5b1d-4154-bcf1-da7ad8f8101d",
   "metadata": {},
   "outputs": [
    {
     "name": "stdout",
     "output_type": "stream",
     "text": [
      "[['politics', 80], ['latin', 96], ['dance', 97], ['architecture', 65], ['physics', 98], ['calculus', 97], ['poetry', 'Pass'], ['history', 88], ['computer science', 100], ['visual arts', 98]]\n"
     ]
    }
   ],
   "source": [
    "#10번\n",
    "# 지난 학기 성적\n",
    "last_semester_gradebook = [[\"politics\", 80], [\"latin\", 96], [\"dance\", 97], [\"architecture\", 65]]\n",
    "\n",
    "# 전체 성적부 결합\n",
    "full_gradebook = last_semester_gradebook + gradebook\n",
    "\n",
    "print(full_gradebook)\n"
   ]
  },
  {
   "cell_type": "code",
   "execution_count": null,
   "id": "6e67b6bc-036c-4a47-a556-81d08793fab9",
   "metadata": {},
   "outputs": [],
   "source": []
  },
  {
   "cell_type": "code",
   "execution_count": null,
   "id": "52d19400-396b-40e7-b597-f897417a2834",
   "metadata": {},
   "outputs": [],
   "source": []
  },
  {
   "cell_type": "code",
   "execution_count": null,
   "id": "f14af7c7-ca0e-499b-bf87-0228ac325161",
   "metadata": {},
   "outputs": [],
   "source": []
  }
 ],
 "metadata": {
  "kernelspec": {
   "display_name": "Python 3 (ipykernel)",
   "language": "python",
   "name": "python3"
  },
  "language_info": {
   "codemirror_mode": {
    "name": "ipython",
    "version": 3
   },
   "file_extension": ".py",
   "mimetype": "text/x-python",
   "name": "python",
   "nbconvert_exporter": "python",
   "pygments_lexer": "ipython3",
   "version": "3.12.4"
  }
 },
 "nbformat": 4,
 "nbformat_minor": 5
}
