{
 "cells": [
  {
   "cell_type": "code",
   "execution_count": 7,
   "id": "fc8d1351-8d07-4757-979a-3612bd1de5b0",
   "metadata": {},
   "outputs": [],
   "source": [
    "#과제 4"
   ]
  },
  {
   "cell_type": "code",
   "execution_count": 9,
   "id": "49e500ca-5cd8-43dd-b677-6abfe79f45b5",
   "metadata": {},
   "outputs": [],
   "source": [
    "#1번 2번\n",
    "month = ['쌍','쇠','복','돌','팽','육','쌍','개','칠','갑','삼','방']\n",
    "day = ['봉', '구', '욕', '포', '똥', '삼', '식', '석', '놈', '님', '년', '돌', '단', '득', '방', '질', '장', '걸', '래', '룡', '동', '순', '자', '박', '창', '언', '것', '포', '만', '단', '국']"
   ]
  },
  {
   "cell_type": "code",
   "execution_count": 11,
   "id": "8739a79e-421d-49c1-962f-c1ad3d98be92",
   "metadata": {},
   "outputs": [
    {
     "name": "stdout",
     "output_type": "stream",
     "text": [
      "당신의 조선시대 이름은 안칠걸 입니다.\n"
     ]
    }
   ],
   "source": [
    "#3번,4번\n",
    "def get_my_chosun_name(family_name, month, day):\n",
    "    first_name_list = ['쌍', '쇠', '복', '돌', '팽', '육', '쌍', '개', '칠', '갑', '삼', '방']\n",
    "    second_name_list = ['봉', '구', '욕', '포', '똥', '삼', '식', '석', '놈', '님', '년', '돌', '단', '득', '방', '질', '장', '걸', '래', '룡', '동', '순', '자', '박', '창', '언', '것', '포', '만', '단', '국']\n",
    "    \n",
    "    first_name = first_name_list[month - 1]\n",
    "    second_name = second_name_list[day - 1]\n",
    "    \n",
    "    chosun_name = family_name + first_name + second_name\n",
    "    return f\"당신의 조선시대 이름은 {chosun_name} 입니다.\"\n",
    "\n",
    "# 함수 호출 예시\n",
    "print(get_my_chosun_name('안', 9, 18))"
   ]
  },
  {
   "cell_type": "code",
   "execution_count": null,
   "id": "6f4c5cec-1b1f-48fa-97eb-b60ca212cce9",
   "metadata": {},
   "outputs": [],
   "source": []
  },
  {
   "cell_type": "code",
   "execution_count": null,
   "id": "5c226095-bd2a-482a-ae62-2346ec893fec",
   "metadata": {},
   "outputs": [],
   "source": []
  }
 ],
 "metadata": {
  "kernelspec": {
   "display_name": "Python 3 (ipykernel)",
   "language": "python",
   "name": "python3"
  },
  "language_info": {
   "codemirror_mode": {
    "name": "ipython",
    "version": 3
   },
   "file_extension": ".py",
   "mimetype": "text/x-python",
   "name": "python",
   "nbconvert_exporter": "python",
   "pygments_lexer": "ipython3",
   "version": "3.12.4"
  }
 },
 "nbformat": 4,
 "nbformat_minor": 5
}
