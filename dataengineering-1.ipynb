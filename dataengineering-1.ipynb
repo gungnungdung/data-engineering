{
 "cells": [
  {
   "cell_type": "code",
   "execution_count": 14,
   "id": "f3b60261-1225-4e59-8ed5-dbcbed2ca6f5",
   "metadata": {},
   "outputs": [],
   "source": [
    "import pandas as pd"
   ]
  },
  {
   "cell_type": "code",
   "execution_count": 16,
   "id": "e39a9bce-facf-4fcc-a411-e5e2385261c9",
   "metadata": {},
   "outputs": [],
   "source": [
    "import numpy as np"
   ]
  },
  {
   "cell_type": "code",
   "execution_count": 18,
   "id": "2a648a30-bae7-443f-8917-48023809c414",
   "metadata": {},
   "outputs": [],
   "source": [
    "import matplotlib.pyplot as plt"
   ]
  },
  {
   "cell_type": "code",
   "execution_count": 20,
   "id": "93f575db-7727-46d3-901b-a81b14319dc6",
   "metadata": {},
   "outputs": [],
   "source": [
    "import seaborn as sns"
   ]
  },
  {
   "cell_type": "code",
   "execution_count": 22,
   "id": "0d8f80f8-4501-4f8d-8cbc-2a84475bf778",
   "metadata": {},
   "outputs": [
    {
     "name": "stdout",
     "output_type": "stream",
     "text": [
      "Customer One Items:\n",
      "Lovely Loveseat. Tufted polyester blend on wood. 32 inches high x 40 inches wide x 30 inches deep. Red or white.\n",
      "Luxurious Lamp. Glass and iron. 36 inches tall. Brown with cream shade\n",
      "\n",
      "Customer One Total: $333.09\n"
     ]
    }
   ],
   "source": [
    "#1번,2번,3번,4번,5번, 6번, 7번, 8번 ,9번, 10번,11번,12번,13번,14번,15번,16번,17번,18번,19번,20번\n",
    "lovely_loveseat_description = 'Lovely Loveseat. Tufted polyester blend on wood. 32 inches high x 40 inches wide x 30 inches deep. Red or white.'\n",
    "lovely_loveseat_price = 254.00\n",
    "stylish_settee_description = 'Stylish Settee. Faux leather on birch. 29.50 inches high x 54.75 inches wide x 28 inches deep. Black.'\n",
    "stylish_settee_price = 180.50\n",
    "luxurious_lamp_description = 'Luxurious Lamp. Glass and iron. 36 inches tall. Brown with cream shade'\n",
    "luxurious_lamp_price = 52.15\n",
    "\n",
    "sales_tax = 0.088\n",
    "\n",
    "customer_one_total = 0\n",
    "customer_one_itemization = \"\"\n",
    "\n",
    "customer_one_total += lovely_loveseat_price\n",
    "customer_one_itemization += lovely_loveseat_description + \"\\n\"\n",
    "\n",
    "customer_one_total += luxurious_lamp_price\n",
    "customer_one_itemization += luxurious_lamp_description + \"\\n\"\n",
    "\n",
    "\n",
    "customer_one_tax = customer_one_total * sales_tax\n",
    "customer_one_total = customer_one_tax + customer_one_total\n",
    "\n",
    "print(\"Customer One Items:\")\n",
    "print(customer_one_itemization)\n",
    "print(\"Customer One Total: ${:.2f}\".format(customer_one_total))"
   ]
  },
  {
   "cell_type": "code",
   "execution_count": null,
   "id": "6e3c2ded-60e2-406f-85b2-eb322aa7b09d",
   "metadata": {},
   "outputs": [],
   "source": []
  },
  {
   "cell_type": "code",
   "execution_count": null,
   "id": "7f8117a2-84af-4073-bd3a-926c5efff884",
   "metadata": {},
   "outputs": [],
   "source": []
  },
  {
   "cell_type": "code",
   "execution_count": null,
   "id": "29121569-3105-437e-852b-48fec78e4760",
   "metadata": {},
   "outputs": [],
   "source": []
  },
  {
   "cell_type": "code",
   "execution_count": null,
   "id": "d9e113b6-226a-4472-9820-c50627e5e859",
   "metadata": {},
   "outputs": [],
   "source": []
  },
  {
   "cell_type": "code",
   "execution_count": null,
   "id": "31788cb0-5bf9-41f9-93ad-3df9f54d97ad",
   "metadata": {},
   "outputs": [],
   "source": []
  }
 ],
 "metadata": {
  "kernelspec": {
   "display_name": "Python 3 (ipykernel)",
   "language": "python",
   "name": "python3"
  },
  "language_info": {
   "codemirror_mode": {
    "name": "ipython",
    "version": 3
   },
   "file_extension": ".py",
   "mimetype": "text/x-python",
   "name": "python",
   "nbconvert_exporter": "python",
   "pygments_lexer": "ipython3",
   "version": "3.12.4"
  }
 },
 "nbformat": 4,
 "nbformat_minor": 5
}
